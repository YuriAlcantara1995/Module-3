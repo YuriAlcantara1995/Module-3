{
 "cells": [
  {
   "cell_type": "markdown",
   "metadata": {
    "id": "Qscqa3B6KDFl"
   },
   "source": [
    "## Content\n",
    "\n",
    "1. <A HREF=\"https://docs.python.org/3/tutorial/datastructures.html#more-on-lists\"> List </A>\n",
    "2. <A HREF=\"https://docs.python.org/3/tutorial/datastructures.html#tuples-and-sequences\"> Tuple </A>\n",
    "3. <A HREF=\"https://docs.python.org/3/tutorial/datastructures.html#dictionaries\"> Dictionary </A>\n",
    "4. <A HREF=\"https://docs.python.org/3/tutorial/datastructures.html#sets\"> Set </A>\n",
    "5. <A HREF=\"https://realpython.com/python-counter/\"> Counter </A>\n",
    "\n",
    "\n"
   ]
  },
  {
   "cell_type": "markdown",
   "metadata": {
    "id": "7LF38xA7LIlT"
   },
   "source": [
    "## <font color=\"green\">1. List</font>"
   ]
  },
  {
   "cell_type": "markdown",
   "metadata": {
    "id": "8-MFZQ3xLIlU"
   },
   "source": [
    "### Exercise 1.1\n",
    "\n",
    "Create `cleared_python_text` by removing all non-letter symbols from the given string `python_text`. Convert to lower case. Create a list of words `python_words`. Print the length of the list.\n",
    "\n",
    "Hints: str.split, str.replace"
   ]
  },
  {
   "cell_type": "code",
   "execution_count": 1,
   "metadata": {
    "id": "CF2q1lHnLIlU"
   },
   "outputs": [],
   "source": [
    "python_text = \"\"\"\n",
    "Python is an interpreted high-level general-purpose programming language. Python's design \n",
    "philosophy emphasizes code readability with its notable use of significant indentation. Its \n",
    "language constructs as well as its object-oriented approach aim to help programmers write clear, \n",
    "logical code for small and large-scale projects. Python is dynamically-typed and \n",
    "garbage-collected. It supports multiple programming paradigms, including structured (particularly, \n",
    "procedural), object-oriented and functional programming. Python is often described as a \"batteries \n",
    "included\" language due to its comprehensive standard library. Guido van Rossum began working on \n",
    "Python in the late 1980s, as a successor to the ABC programming language, and first released it in \n",
    "1991 as Python 0.9.0. Python 2.0 was released in 2000 and introduced new features, such as list \n",
    "comprehensions and a garbage collection system using reference counting. Python 3.0 was released in \n",
    "2008 and was a major revision of the language that is not completely backward-compatible and much \n",
    "Python 2 code does not run unmodified on Python 3. Python 2 was discontinued with version 2.7.18 in \n",
    "2020. Python consistently ranks as one of the most popular programming \n",
    "languages.\n",
    "\"\"\""
   ]
  },
  {
   "cell_type": "code",
   "execution_count": 43,
   "metadata": {
    "id": "ymxoyv2ZLIlV"
   },
   "outputs": [
    {
     "name": "stdout",
     "output_type": "stream",
     "text": [
      "['python', 'is', 'an', 'interpreted', 'high', 'level', 'general', 'purpose', 'programming', 'language', 'python', 's', 'design', 'philosophy', 'emphasizes', 'code', 'readability', 'with', 'its', 'notable', 'use', 'of', 'significant', 'indentation', 'its', 'language', 'constructs', 'as', 'well', 'as', 'its', 'object', 'oriented', 'approach', 'aim', 'to', 'help', 'programmers', 'write', 'clear', 'logical', 'code', 'for', 'small', 'and', 'large', 'scale', 'projects', 'python', 'is', 'dynamically', 'typed', 'and', 'garbage', 'collected', 'it', 'supports', 'multiple', 'programming', 'paradigms', 'including', 'structured', 'particularly', 'procedural', 'object', 'oriented', 'and', 'functional', 'programming', 'python', 'is', 'often', 'described', 'as', 'a', 'batteries', 'included', 'language', 'due', 'to', 'its', 'comprehensive', 'standard', 'library', 'guido', 'van', 'rossum', 'began', 'working', 'on', 'python', 'in', 'the', 'late', 's', 'as', 'a', 'successor', 'to', 'the', 'abc', 'programming', 'language', 'and', 'first', 'released', 'it', 'in', 'as', 'python', 'python', 'was', 'released', 'in', 'and', 'introduced', 'new', 'features', 'such', 'as', 'list', 'comprehensions', 'and', 'a', 'garbage', 'collection', 'system', 'using', 'reference', 'counting', 'python', 'was', 'released', 'in', 'and', 'was', 'a', 'major', 'revision', 'of', 'the', 'language', 'that', 'is', 'not', 'completely', 'backward', 'compatible', 'and', 'much', 'python', 'code', 'does', 'not', 'run', 'unmodified', 'on', 'python', 'python', 'was', 'discontinued', 'with', 'version', 'in', 'python', 'consistently', 'ranks', 'as', 'one', 'of', 'the', 'most', 'popular', 'programming', 'languages']\n"
     ]
    },
    {
     "data": {
      "text/plain": [
       "175"
      ]
     },
     "execution_count": 43,
     "metadata": {},
     "output_type": "execute_result"
    }
   ],
   "source": [
    "cleared_python_text = python_text\n",
    "\n",
    "non_letters = set([c for c in python_text if c.isalpha() == False])\n",
    "for c in non_letters:\n",
    "    if c != ' ':\n",
    "        cleared_python_text = cleared_python_text.replace(c, \" \")\n",
    "\n",
    "cleared_python_text = cleared_python_text.lower()\n",
    "cleared_python_text = cleared_python_text.strip()\n",
    "\n",
    "\n",
    "python_words = cleared_python_text.split()\n",
    "python_words = [*filter(lambda x: len(x.strip()) > 0, python_words)]\n",
    "print(python_words)\n",
    "len(python_words)\n"
   ]
  },
  {
   "cell_type": "markdown",
   "metadata": {
    "id": "79-KQTeBLIlV"
   },
   "source": [
    "### Exercise 1.2\n",
    "\n",
    "Print all sublists of the list `nucleotides`. Note: [a, c] is a sublist for [a, b, c].\n",
    "\n",
    "Sample input: `[0, 1]`\n",
    "\n",
    "Sample output:\n",
    "*   []\n",
    "*   [0]\n",
    "*   [1]\n",
    "*   [0, 1]\n"
   ]
  },
  {
   "cell_type": "code",
   "execution_count": null,
   "metadata": {
    "id": "ucN2IaC0LIlV"
   },
   "outputs": [],
   "source": [
    "nucleotides = ['A', 'T', 'G', 'C']"
   ]
  },
  {
   "cell_type": "code",
   "execution_count": 18,
   "metadata": {
    "id": "4Idmfd_lLIlV"
   },
   "outputs": [
    {
     "data": {
      "text/plain": [
       "[[],\n",
       " ['A'],\n",
       " ['T'],\n",
       " ['G'],\n",
       " ['C'],\n",
       " ['A', 'T'],\n",
       " ['A', 'G'],\n",
       " ['A', 'C'],\n",
       " ['T', 'G'],\n",
       " ['T', 'C'],\n",
       " ['G', 'C'],\n",
       " ['A', 'T', 'G'],\n",
       " ['A', 'T', 'C'],\n",
       " ['A', 'G', 'C'],\n",
       " ['T', 'G', 'C'],\n",
       " ['A', 'T', 'G', 'C']]"
      ]
     },
     "execution_count": 18,
     "metadata": {},
     "output_type": "execute_result"
    }
   ],
   "source": [
    "from itertools import combinations\n",
    "nucleotides = ['A', 'T', 'G', 'C']\n",
    "superset = []\n",
    "for i in range(len(nucleotides)+1):\n",
    "    for j in combinations(nucleotides, i):\n",
    "        superset.append(list(j))\n",
    "        \n",
    "superset"
   ]
  },
  {
   "cell_type": "markdown",
   "metadata": {
    "id": "Pn0BHR1SLIlW"
   },
   "source": [
    "### Exercise 1.3\n",
    "\n",
    "With list comprehensions create matrix $N \\times N$ containing squares of integers starting from $0$. First the first column is filled, then the second, and so on."
   ]
  },
  {
   "cell_type": "code",
   "execution_count": 20,
   "metadata": {
    "id": "l3V2rBUxLIlW"
   },
   "outputs": [
    {
     "name": "stdout",
     "output_type": "stream",
     "text": [
      "4\n",
      "[[0, 1, 4, 9], [16, 25, 36, 49], [64, 81, 100, 121], [144, 169, 196, 225]]\n"
     ]
    }
   ],
   "source": [
    "n = int(input())\n",
    "matrix = [ [ (i*n+j)**2 for j in range(n) ] for i in range(n) ]\n",
    "print(matrix)"
   ]
  },
  {
   "cell_type": "code",
   "execution_count": null,
   "metadata": {
    "id": "9nVsbrfbLIlW"
   },
   "outputs": [],
   "source": [
    "# sample output\n",
    "# [[0, 9, 36]\n",
    "# [1, 16, 49]\n",
    "# [4, 25, 64]]"
   ]
  },
  {
   "cell_type": "markdown",
   "metadata": {
    "id": "wS1oIF_JLIlW"
   },
   "source": [
    "### Exercise 1.4\n",
    "\n",
    "Create 'decoded' list from 'encoded'\n",
    "\n",
    "Example: \n",
    "\n",
    "```encode_list = [0, [1, 2], 4, [1, 0, 3]]```\n",
    "\n",
    "```decode_list = [0, 1, 2, 4, 1, 0, 3]```\n",
    "\n"
   ]
  },
  {
   "cell_type": "code",
   "execution_count": 23,
   "metadata": {
    "id": "EIGg_nXqLIlW"
   },
   "outputs": [
    {
     "name": "stdout",
     "output_type": "stream",
     "text": [
      "[0, 1, 2, 4, 1, 0, 3, 1, 2, 2, 1, 2, 3, 2, 2, 1]\n"
     ]
    }
   ],
   "source": [
    "# your code here\n",
    "encode_list = [0, [1, 2], 4, [1, 0, 3], [1, [2, 2], 1, [2, [3], 2, 2], 1]]\n",
    "#encode_list = [0, [1, 2], 4, [1, 0, 3]]\n",
    "decoded_list = []\n",
    "\n",
    "def recursive_decode( L ):\n",
    "    if isinstance(L, int):\n",
    "        decoded_list.append(L)\n",
    "    else:\n",
    "        for i in L:\n",
    "            recursive_decode(i)\n",
    "\n",
    "recursive_decode(encode_list)\n",
    "\n",
    "print(decoded_list)\n"
   ]
  },
  {
   "cell_type": "markdown",
   "metadata": {
    "id": "k0bMk_8KLIlW"
   },
   "source": [
    "## <font color=\"green\">2. Tuple</font>"
   ]
  },
  {
   "cell_type": "markdown",
   "metadata": {
    "id": "_YACckMiLIlW"
   },
   "source": [
    "### Exercise 2.1\n",
    "\n",
    "Convert string to tuple"
   ]
  },
  {
   "cell_type": "code",
   "execution_count": 24,
   "metadata": {
    "id": "13sUrNX-LIlX"
   },
   "outputs": [
    {
     "name": "stdout",
     "output_type": "stream",
     "text": [
      "Input string: str\n"
     ]
    },
    {
     "data": {
      "text/plain": [
       "('s', 't', 'r')"
      ]
     },
     "execution_count": 24,
     "metadata": {},
     "output_type": "execute_result"
    }
   ],
   "source": [
    "input_str = input('Input string: ')\n",
    "\n",
    "tuple_str = tuple(input_str)\n",
    "tuple_str"
   ]
  },
  {
   "cell_type": "markdown",
   "metadata": {
    "id": "EAMK_9rYLIlX"
   },
   "source": [
    "### Exercise 2.2\n",
    "\n",
    "Calculate the sum and average for each tuple in the given list. Return a list of `(sum, mean)` tuples"
   ]
  },
  {
   "cell_type": "code",
   "execution_count": 25,
   "metadata": {
    "id": "5iFmMzuELIlX"
   },
   "outputs": [
    {
     "name": "stdout",
     "output_type": "stream",
     "text": [
      "[(9, 3.0), (-1, -0.3333333333333333), (7, 3.5), (8, 2.0)]\n"
     ]
    }
   ],
   "source": [
    "list_of_tuples = [(1, 2, 6), (2, 3, -6), (3, 4), (2, 2, 2, 2)]\n",
    "\n",
    "sum_avg = [ ( sum(i), sum(i)/len(i) ) for i in list_of_tuples]\n",
    "\n",
    "print(sum_avg)\n"
   ]
  },
  {
   "cell_type": "markdown",
   "metadata": {
    "id": "6Au2odgSLIlX"
   },
   "source": [
    "### Exercise 2.3\n",
    "\n",
    "Given a list (create one for tests) with strings \"name number\". Return a tuple of tuples (\"name\", number) sorted in decreasing order by number. For same numbers sort alphabetically."
   ]
  },
  {
   "cell_type": "code",
   "execution_count": 33,
   "metadata": {
    "id": "GtBGv1BlLIlX"
   },
   "outputs": [
    {
     "name": "stdout",
     "output_type": "stream",
     "text": [
      "[('Name1', 1), ('Name2', 2), ('Name3', 3)]\n"
     ]
    }
   ],
   "source": [
    "def myFunc(x):\n",
    "    return x[1]\n",
    "\n",
    "name_number_list = [ \"Name2 2\", \"Name3 3\", \"Name1 1\" ]\n",
    "name_number_tuple = [(i.split()[0], int(i.split()[1])) for i in name_number_list]\n",
    "\n",
    "name_number_tuple.sort(key=myFunc)\n",
    "print(name_number_tuple)"
   ]
  },
  {
   "cell_type": "markdown",
   "metadata": {
    "id": "ATgzZd6WLIlX"
   },
   "source": [
    "### Exercise 2.4\n",
    "\n",
    "Generate a list with equal length tuples with numbers. Return tuple with element-wise sums.\n",
    "\n",
    "\n",
    "Sample input: ```[(1, 5), (1, 7), (2, 8)]```\n",
    "\n",
    "Sample output: ```(4, 20)```"
   ]
  },
  {
   "cell_type": "code",
   "execution_count": 39,
   "metadata": {
    "id": "-Tipld8kLIlX"
   },
   "outputs": [
    {
     "name": "stdout",
     "output_type": "stream",
     "text": [
      "(4, 20, 3)\n"
     ]
    }
   ],
   "source": [
    "list_input = [(1, 5, 1), (1, 7, 1), (2, 8, 1)]\n",
    "tuple_len = len(list_input[0])\n",
    "\n",
    "sol = [0]*tuple_len\n",
    "\n",
    "for i in list_input:\n",
    "    for j in range(tuple_len):\n",
    "        sol[j] += i[j]\n",
    "\n",
    "print(tuple(sol))"
   ]
  },
  {
   "cell_type": "markdown",
   "metadata": {
    "id": "enlKIJDkLIlX"
   },
   "source": [
    "## <font color=\"green\">3. Dictionary</font>"
   ]
  },
  {
   "cell_type": "markdown",
   "metadata": {
    "id": "coPqGYSBLIlX"
   },
   "source": [
    "### Exercise 3.1\n",
    "\n",
    "Write a program to merge several dictionaries into one. If the keys match, then leave the last encountered element."
   ]
  },
  {
   "cell_type": "code",
   "execution_count": 40,
   "metadata": {
    "id": "it_ThaYBLIlY"
   },
   "outputs": [
    {
     "data": {
      "text/plain": [
       "{'key1': 50, 'key2': 20, 'key3': 30, 'key4': 40, 'key5': 60}"
      ]
     },
     "execution_count": 40,
     "metadata": {},
     "output_type": "execute_result"
    }
   ],
   "source": [
    "dict_1 = {'key1': 10, 'key2': 20}\n",
    "dict_2 = {'key3': 30, 'key4': 40}\n",
    "dict_3 = {'key1': 50, 'key5': 60}\n",
    "\n",
    "all_items = list( dict_1.items() ) + list( dict_2.items() ) + list( dict_3.items() )\n",
    "new_dict = dict(all_items)\n",
    "new_dict"
   ]
  },
  {
   "cell_type": "markdown",
   "metadata": {
    "id": "4K-2EegRLIlY"
   },
   "source": [
    "### Exercise 3.2\n",
    "\n",
    "Write a program to merge several dictionaries into one. If the keys match, then leave the first encountered element."
   ]
  },
  {
   "cell_type": "code",
   "execution_count": 41,
   "metadata": {
    "id": "euYkiGj8LIlY"
   },
   "outputs": [
    {
     "data": {
      "text/plain": [
       "{'key5': 60, 'key1': 10, 'key4': 40, 'key3': 30, 'key2': 20}"
      ]
     },
     "execution_count": 41,
     "metadata": {},
     "output_type": "execute_result"
    }
   ],
   "source": [
    "dict_1 = {'key1': 10, 'key2': 20}\n",
    "dict_2 = {'key3': 30, 'key4': 40}\n",
    "dict_3 = {'key1': 50, 'key5': 60}\n",
    "\n",
    "all_items = list( dict_1.items() ) + list( dict_2.items() ) + list( dict_3.items() )\n",
    "new_dict = dict( all_items[::-1] )\n",
    "new_dict"
   ]
  },
  {
   "cell_type": "markdown",
   "metadata": {
    "id": "t2pv7UVeLIlY"
   },
   "source": [
    "### Exercise 3.3\n",
    "\n",
    "The input is a string `cleared_python_text`. Print the character dictionary of this string. The value is the number of occurrences. Don't use `collections`"
   ]
  },
  {
   "cell_type": "code",
   "execution_count": 44,
   "metadata": {
    "id": "1tuOlPH7LIlY"
   },
   "outputs": [
    {
     "data": {
      "text/plain": [
       "{'p': 41,\n",
       " 'y': 22,\n",
       " 't': 72,\n",
       " 'h': 30,\n",
       " 'o': 73,\n",
       " 'n': 84,\n",
       " ' ': 259,\n",
       " 'i': 69,\n",
       " 's': 68,\n",
       " 'a': 88,\n",
       " 'e': 94,\n",
       " 'r': 62,\n",
       " 'd': 43,\n",
       " 'g': 40,\n",
       " 'l': 47,\n",
       " 'v': 5,\n",
       " 'u': 32,\n",
       " 'm': 28,\n",
       " 'z': 1,\n",
       " 'c': 40,\n",
       " 'b': 13,\n",
       " 'w': 11,\n",
       " 'f': 11,\n",
       " 'j': 4,\n",
       " 'k': 3}"
      ]
     },
     "execution_count": 44,
     "metadata": {},
     "output_type": "execute_result"
    }
   ],
   "source": [
    "ocurrences = {}\n",
    "for c in cleared_python_text:\n",
    "    if c not in ocurrences:\n",
    "        ocurrences[c] = 1\n",
    "    else:\n",
    "        ocurrences[c] += 1\n",
    "ocurrences"
   ]
  },
  {
   "cell_type": "markdown",
   "metadata": {
    "id": "spEaORSrLIlZ"
   },
   "source": [
    "### Exercise 3.4\n",
    "\n",
    "Create dictionary `{\"word\": occurrences}` from `python_words`. Print the most common word and the number of occurrences. Don't use `collections` "
   ]
  },
  {
   "cell_type": "code",
   "execution_count": 46,
   "metadata": {
    "id": "V2LW4iaHLIlZ"
   },
   "outputs": [
    {
     "name": "stdout",
     "output_type": "stream",
     "text": [
      "python 12\n"
     ]
    }
   ],
   "source": [
    "word_count = {}\n",
    "for word in python_words:\n",
    "    if word not in word_count:\n",
    "        word_count[word] = 1\n",
    "    else:\n",
    "        word_count[word] += 1\n",
    "\n",
    "items = list( word_count.items() )\n",
    "items.sort(key = lambda x: x[1], reverse=True)\n",
    "print(items[0][0], items[0][1])"
   ]
  },
  {
   "cell_type": "markdown",
   "metadata": {
    "id": "e7LUMPmmLIlZ"
   },
   "source": [
    "## <font color=\"green\">4. Set</font>"
   ]
  },
  {
   "cell_type": "markdown",
   "metadata": {
    "id": "3a4LB09LLIlZ"
   },
   "source": [
    "### Exercise 4.1\n",
    "\n",
    "Input:\n",
    "\n",
    "a = [1, 1, 2, 3, 5, 8, 13, 21, 34, 55, 89];\n",
    "\n",
    "b = [1, 2, 3, 4, 5, 6, 7, 8, 9, 10, 11, 12, 13].\n",
    "\n",
    "Return set of common elements.\n",
    "\n",
    "Hint: theme name)\n"
   ]
  },
  {
   "cell_type": "code",
   "execution_count": 47,
   "metadata": {
    "id": "isKHuX_Kv3IW"
   },
   "outputs": [
    {
     "data": {
      "text/plain": [
       "{1, 2, 3, 5, 8, 13}"
      ]
     },
     "execution_count": 47,
     "metadata": {},
     "output_type": "execute_result"
    }
   ],
   "source": [
    "a = [1, 1, 2, 3, 5, 8, 13, 21, 34, 55, 89]\n",
    "b = [1, 2, 3, 4, 5, 6, 7, 8, 9, 10, 11, 12, 13]\n",
    "a = set(a)\n",
    "b = set(b)\n",
    "common = a & b\n",
    "common"
   ]
  },
  {
   "cell_type": "markdown",
   "metadata": {
    "id": "4cJvpteELIlZ"
   },
   "source": [
    "### Exercise 4.2\n",
    "\n",
    "Generate random sequence `numbers` with 20 integers >=0 and < 100. Check if numbers are unic."
   ]
  },
  {
   "cell_type": "code",
   "execution_count": 49,
   "metadata": {
    "id": "xyENsJSHLIlZ"
   },
   "outputs": [
    {
     "name": "stdout",
     "output_type": "stream",
     "text": [
      "[52, 78, 54, 72, 7, 37, 88, 71, 81, 25, 33, 59, 22, 97, 3, 86, 40, 20, 4, 65]\n",
      "YES\n"
     ]
    }
   ],
   "source": [
    "from random import randint\n",
    "\n",
    "l = []\n",
    "for i in range(20):\n",
    "    l.append(randint(0, 100))\n",
    "\n",
    "print(l)\n",
    "if len(l) == len(set(l)):\n",
    "    print(\"YES\")\n",
    "else:\n",
    "    print(\"NO\")"
   ]
  },
  {
   "cell_type": "markdown",
   "metadata": {
    "id": "wyY-CaGnLIlZ"
   },
   "source": [
    "### Exercise 4.3\n",
    "\n",
    "Generate two lists like in the previous ex. Print all numbers that meet only once."
   ]
  },
  {
   "cell_type": "code",
   "execution_count": 52,
   "metadata": {
    "id": "IaSk5w1MLIlZ"
   },
   "outputs": [
    {
     "name": "stdout",
     "output_type": "stream",
     "text": [
      "[91, 51, 69, 69, 67, 68, 51, 25, 29, 32, 90, 78, 55, 20, 94, 83, 6, 24, 21, 26]\n",
      "[38, 19, 34, 34, 97, 2, 91, 17, 21, 48, 59, 7, 56, 69, 66, 46, 41, 31, 59, 3]\n",
      "[91, 51, 69, 67, 68, 25, 29, 32, 90, 78, 55, 20, 94, 83, 6, 24, 21, 26]\n"
     ]
    }
   ],
   "source": [
    "l1 = []\n",
    "for i in range(20):\n",
    "    l1.append(randint(0, 100))\n",
    "print(l1)\n",
    "\n",
    "l2 = []\n",
    "for i in range(20):\n",
    "    l2.append(randint(0, 100))\n",
    "\n",
    "print(l2)\n",
    "\n",
    "sol_list = []\n",
    "s = set()\n",
    "\n",
    "for i in l1:\n",
    "    if i not in s:\n",
    "        sol_list.append(i)\n",
    "    s.add(i)\n",
    "\n",
    "print(sol_list)\n",
    "\n"
   ]
  },
  {
   "cell_type": "markdown",
   "metadata": {
    "id": "cztT97avLIla"
   },
   "source": [
    "### Exercise 4.4\n",
    "\n",
    "Print min and max of the given set."
   ]
  },
  {
   "cell_type": "code",
   "execution_count": 53,
   "metadata": {
    "id": "6xt0IguPLIla"
   },
   "outputs": [
    {
     "name": "stdout",
     "output_type": "stream",
     "text": [
      "{0, 1, 3, 5, 7, 520, 9, 12, 1036, 1548, 16, 20, 24, 28, 540, 33, 39, 1065, 45, 1584, 561, 51, 57, 64, 583, 72, 1095, 80, 1620, 88, 605, 96, 1125, 105, 115, 627, 1656, 125, 1155, 135, 649, 145, 156, 1692, 672, 1185, 168, 180, 696, 192, 1216, 1729, 204, 720, 217, 1248, 231, 744, 1767, 245, 768, 1280, 259, 1805, 273, 793, 288, 1312, 304, 819, 1843, 320, 1344, 845, 336, 1881, 352, 1377, 871, 369, 1920, 897, 387, 1411, 405, 924, 1445, 423, 1960, 952, 441, 1479, 460, 980, 480, 1513, 1008, 500}\n",
      "0 1960\n"
     ]
    }
   ],
   "source": [
    "my_set = {i ** 2 // 5 for i in range(100)}\n",
    "\n",
    "print(my_set)\n",
    "print(min(my_set), max(my_set))"
   ]
  },
  {
   "cell_type": "markdown",
   "metadata": {
    "id": "NHBp_qmULIla"
   },
   "source": [
    "## <font color=\"green\">5. Counter</font>"
   ]
  },
  {
   "cell_type": "code",
   "execution_count": 55,
   "metadata": {
    "id": "gxjWwJnTy5aA"
   },
   "outputs": [],
   "source": [
    "from collections import Counter"
   ]
  },
  {
   "cell_type": "markdown",
   "metadata": {
    "id": "KiHEJRTPLIla"
   },
   "source": [
    "### Exercise 5.1\n",
    "\n",
    "Use Counter to do number 3.3\n"
   ]
  },
  {
   "cell_type": "code",
   "execution_count": 56,
   "metadata": {
    "id": "TgDB2q_HLIla"
   },
   "outputs": [
    {
     "data": {
      "text/plain": [
       "Counter({'p': 41,\n",
       "         'y': 22,\n",
       "         't': 72,\n",
       "         'h': 30,\n",
       "         'o': 73,\n",
       "         'n': 84,\n",
       "         ' ': 259,\n",
       "         'i': 69,\n",
       "         's': 68,\n",
       "         'a': 88,\n",
       "         'e': 94,\n",
       "         'r': 62,\n",
       "         'd': 43,\n",
       "         'g': 40,\n",
       "         'l': 47,\n",
       "         'v': 5,\n",
       "         'u': 32,\n",
       "         'm': 28,\n",
       "         'z': 1,\n",
       "         'c': 40,\n",
       "         'b': 13,\n",
       "         'w': 11,\n",
       "         'f': 11,\n",
       "         'j': 4,\n",
       "         'k': 3})"
      ]
     },
     "execution_count": 56,
     "metadata": {},
     "output_type": "execute_result"
    }
   ],
   "source": [
    "Counter(cleared_python_text)"
   ]
  },
  {
   "cell_type": "markdown",
   "metadata": {
    "id": "ypzIcg0bLIla"
   },
   "source": [
    "### Exercise 5.2\n",
    "\n",
    "Use Counter to do number 3.4"
   ]
  },
  {
   "cell_type": "code",
   "execution_count": 57,
   "metadata": {
    "id": "SCFbJl4ILIla"
   },
   "outputs": [
    {
     "name": "stdout",
     "output_type": "stream",
     "text": [
      "python 12\n"
     ]
    }
   ],
   "source": [
    "d = list(Counter(python_words).items())\n",
    "d.sort(key=lambda x:x[1], reverse=True)\n",
    "print(d[0][0], d[0][1])"
   ]
  },
  {
   "cell_type": "code",
   "execution_count": null,
   "metadata": {},
   "outputs": [],
   "source": []
  }
 ],
 "metadata": {
  "colab": {
   "name": "home-assignment03",
   "provenance": []
  },
  "kernelspec": {
   "display_name": "Python 3 (ipykernel)",
   "language": "python",
   "name": "python3"
  },
  "language_info": {
   "codemirror_mode": {
    "name": "ipython",
    "version": 3
   },
   "file_extension": ".py",
   "mimetype": "text/x-python",
   "name": "python",
   "nbconvert_exporter": "python",
   "pygments_lexer": "ipython3",
   "version": "3.9.9"
  }
 },
 "nbformat": 4,
 "nbformat_minor": 1
}
