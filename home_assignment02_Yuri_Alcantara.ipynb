{
 "cells": [
  {
   "cell_type": "markdown",
   "metadata": {
    "id": "_9j_aLkqSrBi"
   },
   "source": [
    "To generate random data in Python using a [random](https://pynative.com/python/random/) module "
   ]
  },
  {
   "cell_type": "code",
   "execution_count": 1,
   "metadata": {
    "id": "xMl6GayDUCB4"
   },
   "outputs": [],
   "source": [
    "import random\n",
    "import math"
   ]
  },
  {
   "cell_type": "markdown",
   "metadata": {
    "id": "QMlUzOq0oAI5"
   },
   "source": [
    "### Exercise 1\n",
    "You have a list a = [1, 1, 2, 3, 5, 6, 13, 21, 34, 55, 89].\n",
    "\n",
    "Print all even elements and sum."
   ]
  },
  {
   "cell_type": "code",
   "execution_count": 2,
   "metadata": {
    "id": "rwJIfKOdnfGW"
   },
   "outputs": [
    {
     "name": "stdout",
     "output_type": "stream",
     "text": [
      "[2, 6, 34]\n",
      "230\n"
     ]
    }
   ],
   "source": [
    "a = [1, 1, 2, 3, 5, 6, 13, 21, 34, 55, 89]\n",
    "\n",
    "sum = 0\n",
    "even = [] \n",
    "for num in a:\n",
    "    if num % 2 == 0:\n",
    "        even.append(num)\n",
    "    sum += num\n",
    "    \n",
    "print(even)\n",
    "print(sum)        \n",
    "    \n"
   ]
  },
  {
   "cell_type": "markdown",
   "metadata": {
    "id": "0PxuwdtZoB9-"
   },
   "source": [
    "### Exercise 2\n",
    "Print a list that consists of the common elements of the two lists."
   ]
  },
  {
   "cell_type": "code",
   "execution_count": 3,
   "metadata": {
    "id": "9T9ue6_h-RA0"
   },
   "outputs": [
    {
     "name": "stdout",
     "output_type": "stream",
     "text": [
      "{1, 2, 3, 5, 6, 13}\n"
     ]
    }
   ],
   "source": [
    "a = [1, 1, 2, 3, 5, 6, 13, 21, 34, 55, 89]\n",
    "b = [1, 2, 3, 4, 5, 6, 7, 8, 9, 10, 11, 12, 13]\n",
    "\n",
    "common = []\n",
    "for num in a:\n",
    "    if(num in b):\n",
    "        common.append(num)\n",
    "\n",
    "print(set(common))"
   ]
  },
  {
   "cell_type": "markdown",
   "metadata": {
    "id": "D-7vU_xMoGXW"
   },
   "source": [
    "### Exercise 3\n",
    "Print the first n lines of [Pascal's triangle](https://en.wikipedia.org/wiki/Pascal%27s_triangle). The view can be not formatted, that is, just print lines from Pascal's triangle."
   ]
  },
  {
   "cell_type": "code",
   "execution_count": 4,
   "metadata": {
    "id": "ORxlMF5XoHaf"
   },
   "outputs": [
    {
     "name": "stdout",
     "output_type": "stream",
     "text": [
      "Enter the number of lines: 5\n",
      "[1, 0, 0, 0, 0]\n",
      "[1, 1, 0, 0, 0]\n",
      "[1, 2, 1, 0, 0]\n",
      "[1, 3, 3, 1, 0]\n",
      "[1, 4, 6, 4, 1]\n"
     ]
    }
   ],
   "source": [
    "n = int(input('Enter the number of lines: '))\n",
    "\n",
    "pascal = [[0]*n for i in range(n)]\n",
    "\n",
    "for i in range(n):\n",
    "    pascal[i][0] = 1\n",
    "    pascal[i][i] = 1\n",
    "    \n",
    "for i in range(1,n):\n",
    "    for j in range(1,i):\n",
    "        pascal[i][j]= pascal[i-1][j] + pascal[i-1][j-1]\n",
    "\n",
    "for i in range(n):\n",
    "    print(pascal[i])\n",
    "\n",
    "    \n"
   ]
  },
  {
   "cell_type": "markdown",
   "metadata": {
    "id": "LZFh27IYoH-M"
   },
   "source": [
    "### Exercise 4\n",
    "Check if the string is a palindrome."
   ]
  },
  {
   "cell_type": "code",
   "execution_count": 6,
   "metadata": {
    "id": "dbmC6TJNTERJ"
   },
   "outputs": [
    {
     "name": "stdout",
     "output_type": "stream",
     "text": [
      "Enter the string: abcba\n",
      "True\n"
     ]
    }
   ],
   "source": [
    "string = input('Enter the string: ')\n",
    "\n",
    "print(string == string[::-1])"
   ]
  },
  {
   "cell_type": "markdown",
   "metadata": {
    "id": "0dG5QsDnoJw4"
   },
   "source": [
    "### Exercise 5\n",
    "Convert seconds to days:hours:minutes:seconds (without using datetime)"
   ]
  },
  {
   "cell_type": "code",
   "execution_count": 7,
   "metadata": {
    "id": "riZL3l86TJ2Z"
   },
   "outputs": [
    {
     "name": "stdout",
     "output_type": "stream",
     "text": [
      "Number of seconds: 365000\n",
      "4:5:23:20\n"
     ]
    }
   ],
   "source": [
    "seconds = int(input(\"Number of seconds: \"))\n",
    "\n",
    "days = seconds//86400\n",
    "seconds = seconds%86400\n",
    "hours = seconds//3600\n",
    "seconds = seconds%3600\n",
    "minutes = seconds//60\n",
    "seconds = seconds%60\n",
    "\n",
    "print(str(days) + ':' + str(hours) + ':' + str(minutes) + ':' + str(seconds))"
   ]
  },
  {
   "cell_type": "code",
   "execution_count": null,
   "metadata": {
    "id": "hZ9eY7HsoKyd"
   },
   "outputs": [],
   "source": []
  },
  {
   "cell_type": "markdown",
   "metadata": {
    "id": "nBVW10zzoLN-"
   },
   "source": [
    "### Exercise 6\n",
    "You accept a comma-separated sequence of numbers from the user. Make a list and tuple of these numbers."
   ]
  },
  {
   "cell_type": "code",
   "execution_count": 8,
   "metadata": {
    "id": "x--lqdQOoMSG"
   },
   "outputs": [
    {
     "name": "stdout",
     "output_type": "stream",
     "text": [
      "Enter the sequence: 1,2,3,4,5\n",
      "[1, 2, 3, 4, 5]\n",
      "(1, 2, 3, 4, 5)\n"
     ]
    }
   ],
   "source": [
    "sequence = input(\"Enter the sequence: \")\n",
    "numbers = list(map(int,sequence.split(',')))\n",
    "t = tuple(numbers)\n",
    "\n",
    "print(numbers)\n",
    "print(t)\n"
   ]
  },
  {
   "cell_type": "markdown",
   "metadata": {
    "id": "LX80ZS4VoMt_"
   },
   "source": [
    "### Exercise 7\n",
    "Print the first and last element of a list filled with N random integers."
   ]
  },
  {
   "cell_type": "code",
   "execution_count": 9,
   "metadata": {
    "id": "O16WVyH2TfRO"
   },
   "outputs": [
    {
     "name": "stdout",
     "output_type": "stream",
     "text": [
      "20\n",
      "[531, 34, 155, 418, 795, 448, 384, 163, 796, 325, 723, 702, 332, 69, 697, 81, 135, 758, 805, 846]\n",
      "531\n",
      "846\n"
     ]
    }
   ],
   "source": [
    "N = int(input())\n",
    "l = random.sample(range(1, max(1000,N+1)), N)\n",
    "print(l)\n",
    "print(l[0])\n",
    "print(l[-1])"
   ]
  },
  {
   "cell_type": "markdown",
   "metadata": {
    "id": "RONwF247oOGw"
   },
   "source": [
    "### Exercise 8\n",
    "Print the file extension. If it cannot be determined, print \"no extension\"."
   ]
  },
  {
   "cell_type": "code",
   "execution_count": 10,
   "metadata": {
    "id": "zXm-h5SlUPlF"
   },
   "outputs": [
    {
     "name": "stdout",
     "output_type": "stream",
     "text": [
      "File name: \n",
      "file.txt\n",
      "txt\n"
     ]
    }
   ],
   "source": [
    "filename = input('File name: \\n')\n",
    "\n",
    "p = filename.rfind('.')\n",
    "\n",
    "if p != -1 and p != len(filename) - 1:\n",
    "    print(filename[p+1:])\n",
    "else:\n",
    "    print(\"no extension\")"
   ]
  },
  {
   "cell_type": "markdown",
   "metadata": {
    "id": "Imewfx3UphZG"
   },
   "source": [
    "### Exercise 9\n",
    "Add up the digits of the given integer."
   ]
  },
  {
   "cell_type": "code",
   "execution_count": 11,
   "metadata": {
    "id": "S0prYFkypjMD"
   },
   "outputs": [
    {
     "name": "stdout",
     "output_type": "stream",
     "text": [
      "15\n"
     ]
    }
   ],
   "source": [
    "x = 123450\n",
    "s = 0\n",
    "\n",
    "while x > 0:\n",
    "    s += x%10\n",
    "    x//=10\n",
    "\n",
    "print(s)\n"
   ]
  },
  {
   "cell_type": "markdown",
   "metadata": {
    "id": "tx0wApZupk05"
   },
   "source": [
    "### Exercise 10\n",
    "Сreate two lists of size 20 containing random integers from the segment [0, 30], prints them to the screen and all elements of the first that are not in the second."
   ]
  },
  {
   "cell_type": "code",
   "execution_count": 12,
   "metadata": {
    "id": "MkC_sLdRpoG7"
   },
   "outputs": [
    {
     "name": "stdout",
     "output_type": "stream",
     "text": [
      "[5, 24, 8, 25, 21, 4, 10, 0, 17, 23, 18, 7, 12, 28, 13, 26, 1, 9, 6, 14]\n",
      "[9, 28, 16, 20, 11, 3, 23, 19, 25, 29, 6, 27, 2, 15, 18, 26, 4, 21, 7, 5]\n",
      "{0, 1, 8, 10, 12, 13, 14, 17, 24}\n"
     ]
    }
   ],
   "source": [
    "lst1 = random.sample(range(0,30),20) \n",
    "lst2 = random.sample(range(0,30),20)\n",
    "\n",
    "difference = []\n",
    "for num in lst1:\n",
    "    if num not in lst2:\n",
    "        difference.append(num)\n",
    "    \n",
    "print(lst1)\n",
    "print(lst2)\n",
    "print(set(difference))\n",
    "\n",
    "   "
   ]
  },
  {
   "cell_type": "markdown",
   "metadata": {
    "id": "PO9NF3IBpoxz"
   },
   "source": [
    "### Exercise 11\n",
    "Find the number of divisors of a given integer."
   ]
  },
  {
   "cell_type": "code",
   "execution_count": 19,
   "metadata": {
    "executionInfo": {
     "elapsed": 299,
     "status": "ok",
     "timestamp": 1636697358832,
     "user": {
      "displayName": "Илья Склонин",
      "photoUrl": "https://lh3.googleusercontent.com/a-/AOh14GhUvANVFromlHIqSQCbXd0ZcDr9JIJjbuaZr1Zlig=s64",
      "userId": "11017978408778967846"
     },
     "user_tz": -180
    },
    "id": "6pqgc99LprzC"
   },
   "outputs": [
    {
     "name": "stdout",
     "output_type": "stream",
     "text": [
      "100\n",
      "9\n"
     ]
    }
   ],
   "source": [
    "integer = int(input())\n",
    "\n",
    "n_div = 0\n",
    "d = 1\n",
    "while d*d <= integer:\n",
    "    if integer % d == 0:\n",
    "        if d*d == integer:\n",
    "            n_div += 1\n",
    "        else:\n",
    "            n_div += 2\n",
    "    \n",
    "    d+=1\n",
    "    \n",
    "print(n_div)\n"
   ]
  },
  {
   "cell_type": "markdown",
   "metadata": {
    "id": "0lMCVueRpsae"
   },
   "source": [
    "### Exercise 12\n",
    "Count input letter in the input string."
   ]
  },
  {
   "cell_type": "code",
   "execution_count": 20,
   "metadata": {
    "id": "u-x80kjLQIVg"
   },
   "outputs": [
    {
     "name": "stdout",
     "output_type": "stream",
     "text": [
      "string: abcdaxyza\n",
      "letter: a\n",
      "3\n"
     ]
    }
   ],
   "source": [
    "string = input('string: ')\n",
    "letter = input('letter: ')\n",
    "\n",
    "print(string.count(letter))"
   ]
  },
  {
   "cell_type": "markdown",
   "metadata": {
    "id": "FF0C3-cTp0uy"
   },
   "source": [
    "### Exercise 13\n",
    "Swap the values "
   ]
  },
  {
   "cell_type": "code",
   "execution_count": 22,
   "metadata": {
    "id": "KRHJfO1dcwNr"
   },
   "outputs": [
    {
     "name": "stdout",
     "output_type": "stream",
     "text": [
      "5\n",
      "10\n",
      "10 5\n"
     ]
    }
   ],
   "source": [
    "var1 = input()\n",
    "var2 = input()\n",
    "\n",
    "var1, var2 = var2, var1\n",
    "\n",
    "print(var1, var2)\n"
   ]
  },
  {
   "cell_type": "markdown",
   "metadata": {
    "id": "I2x5B2_Np9kO"
   },
   "source": [
    "### Exercise 14\n",
    "You need to check if all the numbers in the sequence are unique. The sequence consists of integers entered from the keyboard. The end of the input is the `'#'` symbol."
   ]
  },
  {
   "cell_type": "code",
   "execution_count": 27,
   "metadata": {
    "id": "gsiB8H61p_Bb"
   },
   "outputs": [
    {
     "name": "stdout",
     "output_type": "stream",
     "text": [
      "1\n",
      "2\n",
      "3\n",
      "4\n",
      "3\n",
      "#\n",
      "False\n"
     ]
    }
   ],
   "source": [
    "l = []\n",
    "while True:\n",
    "    i = input()\n",
    "    if i == \"#\":\n",
    "        break\n",
    "    l.append(int(i))\n",
    "\n",
    "print(len(l) == len(set(l)))\n"
   ]
  },
  {
   "cell_type": "markdown",
   "metadata": {
    "id": "hiPumXgoZtPS"
   },
   "source": [
    "### Exercise 15\n",
    "\n",
    "Create two built-in frozenset objects from strings `'reversed question'` and `'answer'`, and try to make them keys in the dct dictionary for the strings `'? Tesnezorf dna tes neewteb ecnereffid niam eht si tahw'` and **`'<your answer to the question>'`**, respectively. There is no need to reverse the answer. Finally, print out the dct dictionary."
   ]
  },
  {
   "cell_type": "code",
   "execution_count": 29,
   "metadata": {
    "id": "raWWJ0h_77_B"
   },
   "outputs": [],
   "source": [
    "dct = {}"
   ]
  },
  {
   "cell_type": "code",
   "execution_count": 30,
   "metadata": {
    "id": "1Jp2fm0jaChM"
   },
   "outputs": [
    {
     "name": "stdout",
     "output_type": "stream",
     "text": [
      "{frozenset({'r', 'v', 'i', 'e', 'd', 'u', 'o', 'n', ' ', 't', 'q', 's'}): '? Tesnezorf dna tes neewteb ecnereffid niam eht si tahw', frozenset({'r', 'e', 'n', 'a', 'w', 's'}): 'Frozenset is the same as set except the frozensets are immutable'}\n"
     ]
    }
   ],
   "source": [
    "fs1 = frozenset(\"reversed question\")\n",
    "fs2 = frozenset(\"answer\")\n",
    "\n",
    "dct = { fs1 : \"? Tesnezorf dna tes neewteb ecnereffid niam eht si tahw\", fs2 : \"Frozenset is the same as set except the frozensets are immutable\" }\n",
    "print(dct)\n"
   ]
  },
  {
   "cell_type": "markdown",
   "metadata": {
    "id": "wIXXdtGdaMhF"
   },
   "source": [
    "### Exercise 16\n",
    "\n",
    "Find the area of a circle. You can use const `'pi'` from `'math'` module "
   ]
  },
  {
   "cell_type": "code",
   "execution_count": 32,
   "metadata": {
    "id": "QGSPfMB-anqX"
   },
   "outputs": [
    {
     "name": "stdout",
     "output_type": "stream",
     "text": [
      "2.5\n",
      "19.634954084936208\n"
     ]
    }
   ],
   "source": [
    "r = float(input())\n",
    "\n",
    "print(math.pi * r ** 2)\n"
   ]
  },
  {
   "cell_type": "markdown",
   "metadata": {
    "id": "Dj3SgDdLahaZ"
   },
   "source": [
    "### Exercise 17\n",
    "\n",
    "Swap keys and values."
   ]
  },
  {
   "cell_type": "code",
   "execution_count": 35,
   "metadata": {
    "colab": {
     "base_uri": "https://localhost:8080/"
    },
    "executionInfo": {
     "elapsed": 234,
     "status": "ok",
     "timestamp": 1636699521235,
     "user": {
      "displayName": "Илья Склонин",
      "photoUrl": "https://lh3.googleusercontent.com/a-/AOh14GhUvANVFromlHIqSQCbXd0ZcDr9JIJjbuaZr1Zlig=s64",
      "userId": "11017978408778967846"
     },
     "user_tz": -180
    },
    "id": "jVi685NrawKc",
    "outputId": "bd0912e5-7e38-4ecc-981a-cc6242cdb5b0"
   },
   "outputs": [
    {
     "name": "stdout",
     "output_type": "stream",
     "text": [
      "{0: 0, 1: 1, 4: 2, 9: 3, 16: 4, 25: 5, 36: 6, 49: 7, 64: 8, 81: 9}\n"
     ]
    }
   ],
   "source": [
    "dct = {x: x ** 2 for x in range(10)}\n",
    "dct = dict((v,k) for k,v in dct.items())\n",
    "print(dct)\n"
   ]
  },
  {
   "cell_type": "markdown",
   "metadata": {
    "id": "bSkROdzbbDPT"
   },
   "source": [
    "### Exercise 18\n",
    "\n",
    "Create a variable that stores the description of this task as a string, separate the words, and convert to LOWERCASE."
   ]
  },
  {
   "cell_type": "code",
   "execution_count": 40,
   "metadata": {
    "id": "QLQuRJ5fbHyG"
   },
   "outputs": [
    {
     "name": "stdout",
     "output_type": "stream",
     "text": [
      "['create', 'a', 'variable', 'that', 'stores', 'the', 'description', 'of', 'this', 'task', 'as', 'a', 'string', 'separate', 'the', 'words', 'and', 'convert', 'to', 'lowercase']\n"
     ]
    }
   ],
   "source": [
    "s = \"Create a variable that stores the description of this task as a string, separate the words, and convert to LOWERCASE\"\n",
    "\n",
    "import re\n",
    "\n",
    "lst = re.split(\", | \",s)\n",
    "for i in range(len(lst)):\n",
    "    lst[i] = lst[i].lower()\n",
    "\n",
    "print(lst)\n"
   ]
  },
  {
   "cell_type": "markdown",
   "metadata": {
    "id": "xDwSLToobQIJ"
   },
   "source": [
    "### Exercise 19\n",
    "Print the sorted words from the previous exercise in reverse lexicographical order."
   ]
  },
  {
   "cell_type": "code",
   "execution_count": 41,
   "metadata": {
    "id": "QqEMRS9NbST0"
   },
   "outputs": [
    {
     "name": "stdout",
     "output_type": "stream",
     "text": [
      "['words', 'variable', 'to', 'this', 'the', 'the', 'that', 'task', 'string', 'stores', 'separate', 'of', 'lowercase', 'description', 'create', 'convert', 'as', 'and', 'a', 'a']\n"
     ]
    }
   ],
   "source": [
    "lst = sorted(lst, reverse=True)\n",
    "print(lst)\n"
   ]
  },
  {
   "cell_type": "markdown",
   "metadata": {
    "id": "rO-Amdrhbfc5"
   },
   "source": [
    "### Exercise 20\n",
    "\n",
    "Write code that reverses all odd-numbered elements of lst in reverse order.\n",
    "\n",
    "That is, if lst = [0, 1, 2, 3, 4, 5, 6, 7, 8, 9], then you should get [0, 9, 2, 7, 4, 5, 6, 3, 8, 1]"
   ]
  },
  {
   "cell_type": "code",
   "execution_count": 42,
   "metadata": {
    "id": "e3SdQqGLbnI9"
   },
   "outputs": [
    {
     "name": "stdout",
     "output_type": "stream",
     "text": [
      "[0, 9, 2, 7, 4, 5, 6, 3, 8, 1]\n"
     ]
    }
   ],
   "source": [
    "lst = [0, 1, 2, 3, 4, 5, 6, 7, 8, 9]\n",
    "\n",
    "oddNumbers = []\n",
    "\n",
    "for i in lst:\n",
    "    if i % 2 == 1:\n",
    "        oddNumbers.append(i)\n",
    "\n",
    "result = []\n",
    "p = 0\n",
    "for i in lst:\n",
    "    if i % 2 == 1:\n",
    "        result.append(oddNumbers[::-1][p])\n",
    "        p+=1\n",
    "    else:\n",
    "        result.append(i)\n",
    "\n",
    "print(result)"
   ]
  }
 ],
 "metadata": {
  "colab": {
   "collapsed_sections": [],
   "name": "home_assignment_02",
   "provenance": [
    {
     "file_id": "1Xrp3JxkheLxkAY5f7xZ1U90RtnexICQU",
     "timestamp": 1636693755902
    },
    {
     "file_id": "18bbmK2TYy_r3K1Frc9wOVpGv_ZNAImO2",
     "timestamp": 1636476683698
    },
    {
     "file_id": "1v-rKLwgo02lZQEOi3hGw01NFnxA0pSmF",
     "timestamp": 1625665244599
    },
    {
     "file_id": "1aUZJff9pPV4ntzeJ3_GXZtawvMaCPW-V",
     "timestamp": 1609226955665
    }
   ],
   "toc_visible": true
  },
  "kernelspec": {
   "display_name": "Python 3 (ipykernel)",
   "language": "python",
   "name": "python3"
  },
  "language_info": {
   "codemirror_mode": {
    "name": "ipython",
    "version": 3
   },
   "file_extension": ".py",
   "mimetype": "text/x-python",
   "name": "python",
   "nbconvert_exporter": "python",
   "pygments_lexer": "ipython3",
   "version": "3.8.3"
  }
 },
 "nbformat": 4,
 "nbformat_minor": 1
}
