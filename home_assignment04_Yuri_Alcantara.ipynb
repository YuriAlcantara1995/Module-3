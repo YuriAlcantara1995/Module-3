{
 "cells": [
  {
   "cell_type": "markdown",
   "metadata": {
    "id": "hia1cPPnbt-6"
   },
   "source": [
    "## Exercise 0\n",
    "\n",
    "Write your own simple function with simple documentation and all types of arguments (positional, positional with defaults, arbitrary args, keyword args, arbitrary keyword args)"
   ]
  },
  {
   "cell_type": "code",
   "execution_count": 1,
   "metadata": {
    "id": "82YW6fgZbppO"
   },
   "outputs": [
    {
     "name": "stdout",
     "output_type": "stream",
     "text": [
      "1 2\n",
      "2 1\n",
      "10 10\n",
      "1\n",
      "2\n",
      "3\n",
      "('a', 10)\n",
      "('b', 20)\n",
      "('c', 30)\n"
     ]
    }
   ],
   "source": [
    "def my_function(not_default, default = 10):\n",
    "    print(not_default, default)\n",
    "\n",
    "def my_other_function(*arbitrary, **arbitrary_keyword ):\n",
    "    for i in arbitrary:\n",
    "        print(i)\n",
    "    for i in arbitrary_keyword.items():\n",
    "        print(i)\n",
    "\n",
    "my_function(1, 2)\n",
    "my_function(default = 1, not_default = 2)\n",
    "my_function(10)\n",
    "\n",
    "my_other_function(1, 2, 3, a = 10, b = 20, c = 30)"
   ]
  },
  {
   "cell_type": "markdown",
   "metadata": {
    "id": "HYhlKVnwTYzD"
   },
   "source": [
    "## Exercise 1\n"
   ]
  },
  {
   "cell_type": "code",
   "execution_count": 2,
   "metadata": {
    "id": "gv_TvLaHTXh8"
   },
   "outputs": [
    {
     "name": "stdout",
     "output_type": "stream",
     "text": [
      "False\n",
      "False\n",
      "True\n",
      "True\n",
      "False\n"
     ]
    }
   ],
   "source": [
    "from math import sqrt\n",
    "\n",
    "def is_prime(n):\n",
    "    if n <=1:\n",
    "        return False\n",
    "    \n",
    "    if n == 2:\n",
    "        return True\n",
    "    \n",
    "    for i in range(2, int(sqrt(n)) + 1):\n",
    "        if n % i == 0:\n",
    "            return False\n",
    "    \n",
    "    return True\n",
    "        \n",
    "print(is_prime(-2))\n",
    "print(is_prime(1))\n",
    "print(is_prime(2))\n",
    "print(is_prime(11))    \n",
    "print(is_prime(49))    "
   ]
  },
  {
   "cell_type": "markdown",
   "metadata": {
    "id": "1FXsMX-RKOBG"
   },
   "source": [
    "## Exercise 2\n",
    "\n",
    "[Inspect](https://docs.python.org/3.7/library/inspect.html) will help you. Use `my_function` for tests.\n",
    "\n"
   ]
  },
  {
   "cell_type": "code",
   "execution_count": 3,
   "metadata": {
    "id": "g68Y9DfNQcYD"
   },
   "outputs": [
    {
     "name": "stdout",
     "output_type": "stream",
     "text": [
      "func name = sum\n",
      "default arguments:  (1, 2)\n"
     ]
    }
   ],
   "source": [
    "import inspect\n",
    "\n",
    "def inspect_function(func):\n",
    "    print('func name =', func.__name__)\n",
    "    print('default arguments: ', func.__defaults__)\n",
    "     \n",
    "def sum(a=1,b=2):\n",
    "    return a+b\n",
    "    \n",
    "def several_args(*args, **kwargs):\n",
    "    return len(args)\n",
    "\n",
    "inspect_function(sum)\n"
   ]
  },
  {
   "cell_type": "markdown",
   "metadata": {
    "id": "oRaKEc0ZIgNs"
   },
   "source": [
    "## Exercise 3"
   ]
  },
  {
   "cell_type": "markdown",
   "metadata": {
    "id": "xmdOYiCrGpUd"
   },
   "source": [
    "The `my_time_now` function is not working correctly. Correct it so that it displays the current time with a message. "
   ]
  },
  {
   "cell_type": "code",
   "execution_count": 4,
   "metadata": {
    "id": "645BoTXIGnHr"
   },
   "outputs": [],
   "source": [
    "from datetime import datetime\n",
    "from time import sleep\n",
    " \n",
    "# wrong function\n",
    "def my_time_now(msg, *, dt=datetime.now()):\n",
    "    print(msg, dt)\n",
    "    \n",
    "#right function \n",
    "def my_time_now(msg):\n",
    "    dt=datetime.now()\n",
    "    print(msg, dt)\n"
   ]
  },
  {
   "cell_type": "code",
   "execution_count": 5,
   "metadata": {
    "id": "3NeyF9UJHeyd"
   },
   "outputs": [
    {
     "name": "stdout",
     "output_type": "stream",
     "text": [
      "The time is now:  2021-11-26 00:06:00.235131\n",
      "The time is now:  2021-11-26 00:06:01.236891\n",
      "The time is now:  2021-11-26 00:06:02.241438\n"
     ]
    }
   ],
   "source": [
    "# simple tests :)\n",
    "my_time_now('The time is now: ')\n",
    "sleep(1)\n",
    "my_time_now('The time is now: ')\n",
    "sleep(1)\n",
    "my_time_now('The time is now: ')"
   ]
  },
  {
   "cell_type": "markdown",
   "metadata": {
    "id": "Qap8_Jb2ENra"
   },
   "source": [
    "## Exercise 4"
   ]
  },
  {
   "cell_type": "code",
   "execution_count": 6,
   "metadata": {
    "id": "JBwZGo84EMW1"
   },
   "outputs": [
    {
     "name": "stdout",
     "output_type": "stream",
     "text": [
      "[0, 1, 2, 3, 4, 5, 6, 7, 8, 9, 10, 11, 12, 13, 14, 15, 16, 17, 18, 19, 20, 21, 22, 23, 24]\n"
     ]
    }
   ],
   "source": [
    "def limit(input_generator, max_count):\n",
    "    \"\"\"\n",
    "    Generator that returns not more than max_count values of the input_generator.\n",
    "    \"\"\"\n",
    "    list = []\n",
    "    for i in range(max_count):\n",
    "        list.append(next(input_generator))\n",
    "    \n",
    "    return list\n",
    "\n",
    "def generator():\n",
    "    for i in range(1000):\n",
    "        yield i\n",
    "\n",
    "print(limit(generator(),25))"
   ]
  },
  {
   "cell_type": "markdown",
   "metadata": {
    "id": "BvwCKaOxRQ3N"
   },
   "source": [
    "## Exercise 5\n",
    "\n",
    "Write a generator for an infinite sequence of numbers from the Pascal's triangle. The sequence look like this:\n",
    "`1 1 1 1 2 1 1 3 3 1 1 4 6 4 1 1 5 10 10 5 1 1 6 15 20 15 6 1 1 7 21 35 35 21 7 1 1 8 28 56 70 56 28 8 1 1 9 36 84 126 126 84 36 9 1 ... '\n",
    "\n",
    "Test it with a generator from the previous task)"
   ]
  },
  {
   "cell_type": "code",
   "execution_count": 7,
   "metadata": {
    "id": "EBNNXBUYUqKJ"
   },
   "outputs": [
    {
     "data": {
      "text/plain": [
       "[1, 1, 1, 1, 2, 1, 1, 3, 3, 1, 1, 4, 6, 4, 1, 1, 5, 10, 10, 5]"
      ]
     },
     "execution_count": 7,
     "metadata": {},
     "output_type": "execute_result"
    }
   ],
   "source": [
    "def pascal():\n",
    "    n = 0\n",
    "    \n",
    "    def factorial( n ):\n",
    "        ret = 1\n",
    "        for i in range(1,n+1):\n",
    "            ret *= i\n",
    "        return ret\n",
    "    \n",
    "    def C( n, k ):\n",
    "        return int(factorial(n)/(factorial(n-k) * factorial(k)))\n",
    "    \n",
    "    while True:\n",
    "        for k in range(n+1):\n",
    "            yield C(n, k)\n",
    "        n += 1\n",
    "        \n",
    "limit(pascal(), 20)"
   ]
  },
  {
   "cell_type": "markdown",
   "metadata": {
    "id": "vUiY14pIEiNC"
   },
   "source": [
    "## Exercise 6\n"
   ]
  },
  {
   "cell_type": "code",
   "execution_count": 8,
   "metadata": {
    "id": "eGLSDqNHGFYn"
   },
   "outputs": [
    {
     "name": "stdout",
     "output_type": "stream",
     "text": [
      "[('README.md', 37), ('.gitignore', 43), ('py3_study.yaml', 2645), ('home_assignment04_Yuri_Alcantara.ipynb', 11417), ('home_assignment02_Yuri_Alcantara.ipynb', 19242), ('home_assignment03_Yuri_Alcantara.ipynb', 23719), ('home_assignment01.ipynb', 24243)]\n"
     ]
    }
   ],
   "source": [
    "import pathlib  # can change to os module if you want\n",
    "import sys\n",
    "import glob\n",
    "import os\n",
    "\n",
    "def files_sorted_by_size(path_to_dir):\n",
    "    \"\"\"\n",
    "    Return a list of files in path_to_dir sorted by size.\n",
    "    The same size files sorted alphabetically\n",
    "    \"\"\"\n",
    "    files = list(filter( lambda x: os.path.isfile(os.path.join(path_to_dir, x)),os.listdir(path_to_dir) ))\n",
    "    files = [ ( i,  os.stat(os.path.join(path_to_dir, i)).st_size ) for i in files ]\n",
    "    \n",
    "    def myFunc(x):\n",
    "        return tuple([x[1],x[0]])\n",
    "    \n",
    "    files.sort(key=myFunc)\n",
    "    \n",
    "    return files\n",
    "\n",
    "print(files_sorted_by_size(\".\"))"
   ]
  },
  {
   "cell_type": "markdown",
   "metadata": {
    "id": "43eeoixHSa9Y"
   },
   "source": [
    "## Exercise 7\n",
    "\n",
    "Write a `merge_sorter` generator that merges sorted sequences of integers.\n",
    "\n",
    "The generator takes an arbitrary number of arguments. The argument can be any iterable, including another generator. It is guaranteed that each argument is a sequence of integers, sorted in non-decreasing order."
   ]
  },
  {
   "cell_type": "code",
   "execution_count": null,
   "metadata": {
    "id": "VHmnqHVaScox"
   },
   "outputs": [],
   "source": []
  },
  {
   "cell_type": "markdown",
   "metadata": {
    "id": "7AF_IQRQVQ-k"
   },
   "source": [
    "## Exercise 8\n",
    "\n",
    "Write the decorator `proﬁler`, which, when calling a function, will store in its attributes (not to be confused with arguments) the time of its execution (in seconds, it can be fractional) and the number of recursive calls that occurred during execution. Name the attributes `last_time_taken` and `calls`.\n",
    "It is forbidden to use global variables.\n",
    "The decorator must behave in a decent manner, that is, it must not overwrite the function's documentation.\n",
    "\n",
    "For tests write [Ackermann function](https://en.wikipedia.org/wiki/Ackermann_function)"
   ]
  },
  {
   "cell_type": "code",
   "execution_count": null,
   "metadata": {
    "id": "WyJ02jbTVQiu"
   },
   "outputs": [],
   "source": [
    "def profiler():\n",
    "    # your code here\n",
    "    raise NotImplementedError\n",
    "\n",
    "def ackermann(n, m):\n",
    "    # your code here\n",
    "    raise NotImplementedError"
   ]
  },
  {
   "cell_type": "markdown",
   "metadata": {
    "id": "QcjAealUfs2Q"
   },
   "source": [
    "## Exercise 9\n",
    "\n",
    "Write the function `encode` that implements [run-length encoding](https://en.wikipedia.org/wiki/Run-length_encoding) algorithm"
   ]
  },
  {
   "cell_type": "code",
   "execution_count": 9,
   "metadata": {
    "id": "tBhwbMm9fsMv"
   },
   "outputs": [
    {
     "name": "stdout",
     "output_type": "stream",
     "text": [
      "A3B3E5R4H3A2\n",
      "A1\n"
     ]
    }
   ],
   "source": [
    "def encode(sequence):\n",
    "    ret = []\n",
    "    count = 0\n",
    "    for i in range(len(sequence)):\n",
    "        if i == 0:\n",
    "            count = 1\n",
    "        else:\n",
    "            if sequence[i] != sequence[i-1]:\n",
    "                ret.append(sequence[i-1])\n",
    "                ret.append(count)\n",
    "                count = 1\n",
    "            else:\n",
    "                count += 1\n",
    "    \n",
    "    if( len(sequence) > 0 ):\n",
    "        ret.append(sequence[-1])\n",
    "        ret.append(count)\n",
    "    return ''.join( map(str,ret) )\n",
    "\n",
    "print(encode(\"AAABBBEEEEERRRRHHHAA\"))\n",
    "print(encode(\"A\"))"
   ]
  },
  {
   "cell_type": "code",
   "execution_count": null,
   "metadata": {},
   "outputs": [],
   "source": []
  }
 ],
 "metadata": {
  "colab": {
   "collapsed_sections": [],
   "name": "home-assignment04",
   "provenance": []
  },
  "kernelspec": {
   "display_name": "Python 3 (ipykernel)",
   "language": "python",
   "name": "python3"
  },
  "language_info": {
   "codemirror_mode": {
    "name": "ipython",
    "version": 3
   },
   "file_extension": ".py",
   "mimetype": "text/x-python",
   "name": "python",
   "nbconvert_exporter": "python",
   "pygments_lexer": "ipython3",
   "version": "3.8.10"
  }
 },
 "nbformat": 4,
 "nbformat_minor": 1
}
